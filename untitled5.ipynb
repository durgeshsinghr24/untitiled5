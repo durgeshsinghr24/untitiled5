{
  "nbformat": 4,
  "nbformat_minor": 0,
  "metadata": {
    "colab": {
      "provenance": []
    },
    "kernelspec": {
      "name": "python3",
      "display_name": "Python 3"
    },
    "language_info": {
      "name": "python"
    }
  },
  "cells": [
    {
      "cell_type": "code",
      "execution_count": null,
      "metadata": {
        "id": "9C7fjzUtH59J"
      },
      "outputs": [],
      "source": [
        "import re\n",
        "\n",
        "text2 = \"\"\"COM  Computers\n",
        "205 MAT   Mathematics 189\"\"\"\n"
      ]
    },
    {
      "cell_type": "code",
      "source": [
        "regex_num = re.compile('\\d+')\n",
        "s = regex_num.search(text2)\n",
        "\n",
        "\n",
        "print('Starting Position: ' , s.start())\n",
        "print('Ending Position: ' , s.end())\n",
        "print(text2[s.start():s.end()])\n"
      ],
      "metadata": {
        "colab": {
          "base_uri": "https://localhost:8080/"
        },
        "id": "LqKlCEyEIEkz",
        "outputId": "8be87b9d-5669-4bcc-9195-1b39037370c7"
      },
      "execution_count": null,
      "outputs": [
        {
          "output_type": "stream",
          "name": "stdout",
          "text": [
            "Starting Position:  15\n",
            "Ending Position:  18\n",
            "205\n"
          ]
        }
      ]
    },
    {
      "cell_type": "code",
      "source": [
        "text = \"\"\"101   COM \\t  Computers\n",
        "205   MAT \\t  Mathematics\n",
        "189   ENG  \\t  English\"\"\"\n",
        "print(text)"
      ],
      "metadata": {
        "colab": {
          "base_uri": "https://localhost:8080/"
        },
        "id": "Bi2J9l6mIILh",
        "outputId": "3720cdfa-4fba-43f2-e69e-750b02cead20"
      },
      "execution_count": null,
      "outputs": [
        {
          "output_type": "stream",
          "name": "stdout",
          "text": [
            "101   COM \t  Computers\n",
            "205   MAT \t  Mathematics\n",
            "189   ENG  \t  English\n"
          ]
        }
      ]
    },
    {
      "cell_type": "code",
      "source": [
        "regex = re.compile('\\s+')\n",
        "print(regex.sub(' ', text))\n"
      ],
      "metadata": {
        "colab": {
          "base_uri": "https://localhost:8080/"
        },
        "id": "pvtVzYynILn5",
        "outputId": "c9715f02-01e0-4a05-f17a-0c1204286942"
      },
      "execution_count": null,
      "outputs": [
        {
          "output_type": "stream",
          "name": "stdout",
          "text": [
            "101 COM Computers 205 MAT Mathematics 189 ENG English\n"
          ]
        }
      ]
    },
    {
      "cell_type": "code",
      "source": [
        "# or\n",
        "print(re.sub('\\s+', ' ', text))\n"
      ],
      "metadata": {
        "colab": {
          "base_uri": "https://localhost:8080/"
        },
        "id": "JfLKx4DhIOVZ",
        "outputId": "874b56c8-9ac1-417b-902e-2e6a81d9642c"
      },
      "execution_count": null,
      "outputs": [
        {
          "output_type": "stream",
          "name": "stdout",
          "text": [
            "101 COM Computers 205 MAT Mathematics 189 ENG English\n"
          ]
        }
      ]
    },
    {
      "cell_type": "code",
      "source": [
        "regex = re.compile('((?!\\n)\\s+)')\n",
        "print(regex.sub(' ', text))\n",
        "\n",
        "text = \"\"\"101   COM   Computers\n",
        "205   MAT   Mathematics\n",
        "189   ENG    English\"\"\"\n",
        "\n",
        "\n",
        "re.findall('[0-9]+', text)"
      ],
      "metadata": {
        "colab": {
          "base_uri": "https://localhost:8080/"
        },
        "id": "qXASXANRIUoo",
        "outputId": "54b1a215-c671-4139-a6f0-637d30cb8893"
      },
      "execution_count": null,
      "outputs": [
        {
          "output_type": "stream",
          "name": "stdout",
          "text": [
            "101 COM Computers\n",
            "205 MAT Mathematics\n",
            "189 ENG English\n"
          ]
        },
        {
          "output_type": "execute_result",
          "data": {
            "text/plain": [
              "['101', '205', '189']"
            ]
          },
          "metadata": {},
          "execution_count": 7
        }
      ]
    },
    {
      "cell_type": "code",
      "source": [
        "re.findall('[A-Z]{3}', text)\n"
      ],
      "metadata": {
        "colab": {
          "base_uri": "https://localhost:8080/"
        },
        "id": "U33dpYUNIbNZ",
        "outputId": "15028511-9062-4f8d-e740-1eaa4d38bc22"
      },
      "execution_count": null,
      "outputs": [
        {
          "output_type": "execute_result",
          "data": {
            "text/plain": [
              "['COM', 'MAT', 'ENG']"
            ]
          },
          "metadata": {},
          "execution_count": 8
        }
      ]
    },
    {
      "cell_type": "code",
      "source": [
        "re.findall('[A-Za-z]{4,}', text)\n"
      ],
      "metadata": {
        "colab": {
          "base_uri": "https://localhost:8080/"
        },
        "id": "BuEjy8niId4v",
        "outputId": "7b2ffd38-637f-4a08-df3f-44b1ffb55357"
      },
      "execution_count": null,
      "outputs": [
        {
          "output_type": "execute_result",
          "data": {
            "text/plain": [
              "['Computers', 'Mathematics', 'English']"
            ]
          },
          "metadata": {},
          "execution_count": 9
        }
      ]
    },
    {
      "cell_type": "code",
      "source": [
        "# define the course text pattern groups and extract\n",
        "course_pattern = '([0-9]+)\\s*([A-Z]{3})\\s*([A-Za-z]{4,})'\n",
        "re.findall(course_pattern, text)"
      ],
      "metadata": {
        "colab": {
          "base_uri": "https://localhost:8080/"
        },
        "id": "_iF3U8C1I1YZ",
        "outputId": "54b5b9c3-fc1d-479b-e3c9-5c9028361219"
      },
      "execution_count": null,
      "outputs": [
        {
          "output_type": "execute_result",
          "data": {
            "text/plain": [
              "[]"
            ]
          },
          "metadata": {},
          "execution_count": 14
        }
      ]
    },
    {
      "cell_type": "code",
      "source": [
        "text = \"< body>Regex Greedy Matching Example < /body>\"\n",
        "re.findall('<.*>', text)\n"
      ],
      "metadata": {
        "colab": {
          "base_uri": "https://localhost:8080/"
        },
        "id": "KSPX1PV0I98S",
        "outputId": "a25527a2-06de-4be2-e73c-23a96756faec"
      },
      "execution_count": null,
      "outputs": [
        {
          "output_type": "execute_result",
          "data": {
            "text/plain": [
              "['< body>Regex Greedy Matching Example < /body>']"
            ]
          },
          "metadata": {},
          "execution_count": 13
        }
      ]
    },
    {
      "cell_type": "code",
      "source": [
        "re.findall('<.*', text)\n"
      ],
      "metadata": {
        "colab": {
          "base_uri": "https://localhost:8080/"
        },
        "id": "6BPa0kyyJEuS",
        "outputId": "091a49bc-7863-42df-9331-a052f851ef8d"
      },
      "execution_count": null,
      "outputs": [
        {
          "output_type": "execute_result",
          "data": {
            "text/plain": [
              "['< body>Regex Greedy Matching Example < /body>']"
            ]
          },
          "metadata": {},
          "execution_count": 15
        }
      ]
    },
    {
      "cell_type": "code",
      "source": [
        "re.search('<.*?>', text).group()\n"
      ],
      "metadata": {
        "colab": {
          "base_uri": "https://localhost:8080/",
          "height": 36
        },
        "id": "fdYIdB_QJb5B",
        "outputId": "cdc95f40-35d8-4e95-d4f2-e71a5d25932d"
      },
      "execution_count": null,
      "outputs": [
        {
          "output_type": "execute_result",
          "data": {
            "text/plain": [
              "'< body>'"
            ],
            "application/vnd.google.colaboratory.intrinsic+json": {
              "type": "string"
            }
          },
          "metadata": {},
          "execution_count": 16
        }
      ]
    },
    {
      "cell_type": "code",
      "source": [
        "text = 'machinelearningplus.com'\n",
        "print(re.findall('.', text))  # .   Any character except for a new line\n",
        "print(re.findall('...', text))"
      ],
      "metadata": {
        "colab": {
          "base_uri": "https://localhost:8080/"
        },
        "id": "_FpjPrmeJg-5",
        "outputId": "7891c2e6-e31e-4b60-ff8f-4906caf34544"
      },
      "execution_count": null,
      "outputs": [
        {
          "output_type": "stream",
          "name": "stdout",
          "text": [
            "['m', 'a', 'c', 'h', 'i', 'n', 'e', 'l', 'e', 'a', 'r', 'n', 'i', 'n', 'g', 'p', 'l', 'u', 's', '.', 'c', 'o', 'm']\n",
            "['mac', 'hin', 'ele', 'arn', 'ing', 'plu', 's.c']\n"
          ]
        }
      ]
    },
    {
      "cell_type": "code",
      "source": [
        "text = 'machinelearningplus.com'\n",
        "print(re.findall('\\.', text))  # matches a period\n",
        "print(re.findall('[^\\.]', text))"
      ],
      "metadata": {
        "colab": {
          "base_uri": "https://localhost:8080/"
        },
        "id": "3eSylAy-Jlfp",
        "outputId": "7a69d6d4-c47a-40a1-f9a0-12ff8492bc9b"
      },
      "execution_count": null,
      "outputs": [
        {
          "output_type": "stream",
          "name": "stdout",
          "text": [
            "['.']\n",
            "['m', 'a', 'c', 'h', 'i', 'n', 'e', 'l', 'e', 'a', 'r', 'n', 'i', 'n', 'g', 'p', 'l', 'u', 's', 'c', 'o', 'm']\n"
          ]
        }
      ]
    },
    {
      "cell_type": "code",
      "source": [
        "text = '01, Jan 2015'\n",
        "print(re.findall('\\d+', text))"
      ],
      "metadata": {
        "colab": {
          "base_uri": "https://localhost:8080/"
        },
        "id": "X9pJgAEkJq8S",
        "outputId": "d7dd4a35-be44-4d65-cdf9-717c5a87c6b8"
      },
      "execution_count": null,
      "outputs": [
        {
          "output_type": "stream",
          "name": "stdout",
          "text": [
            "['01', '2015']\n"
          ]
        }
      ]
    },
    {
      "cell_type": "code",
      "source": [
        "text = '01, Jan 2015'\n",
        "print(re.findall('\\D+', text))"
      ],
      "metadata": {
        "colab": {
          "base_uri": "https://localhost:8080/"
        },
        "id": "ojrQ4unPJvuK",
        "outputId": "a110c9b5-5611-452e-80b4-350dafd7f9ef"
      },
      "execution_count": null,
      "outputs": [
        {
          "output_type": "stream",
          "name": "stdout",
          "text": [
            "[', Jan ']\n"
          ]
        }
      ]
    },
    {
      "cell_type": "code",
      "source": [
        "text = '01, Jan 2015'\n",
        "print(re.findall('\\w+', text))"
      ],
      "metadata": {
        "colab": {
          "base_uri": "https://localhost:8080/"
        },
        "id": "faieRkKNJ08R",
        "outputId": "17b63688-d413-4947-a675-5295f305d594"
      },
      "execution_count": null,
      "outputs": [
        {
          "output_type": "stream",
          "name": "stdout",
          "text": [
            "['01', 'Jan', '2015']\n"
          ]
        }
      ]
    },
    {
      "cell_type": "code",
      "source": [
        "text = '01, Jan 2015'\n",
        "print(re.findall('\\W+', text))\n"
      ],
      "metadata": {
        "colab": {
          "base_uri": "https://localhost:8080/"
        },
        "id": "CV6BZ-MDJ77K",
        "outputId": "5b691101-9b52-4b2f-8b47-0383c8c26636"
      },
      "execution_count": null,
      "outputs": [
        {
          "output_type": "stream",
          "name": "stdout",
          "text": [
            "[', ', ' ']\n"
          ]
        }
      ]
    },
    {
      "cell_type": "code",
      "source": [
        "text = '01, Jan 2015'\n",
        "print(re.findall('[a-zA-Z]+', text))\n"
      ],
      "metadata": {
        "colab": {
          "base_uri": "https://localhost:8080/"
        },
        "id": "ydk6CFRsKA_m",
        "outputId": "f0976965-0c62-4dd7-a7a9-7052e6406f5a"
      },
      "execution_count": null,
      "outputs": [
        {
          "output_type": "stream",
          "name": "stdout",
          "text": [
            "['Jan']\n"
          ]
        }
      ]
    },
    {
      "cell_type": "code",
      "source": [
        "text = '01, Jan 2015'\n",
        "print(re.findall('\\d{4}', text))  # {n} Matches repeat n times.\n",
        "print(re.findall('\\d{2,4}', text))\n"
      ],
      "metadata": {
        "colab": {
          "base_uri": "https://localhost:8080/"
        },
        "id": "aKoXuzE-KEMV",
        "outputId": "64befc1b-e185-457f-93ea-e21268ad8c01"
      },
      "execution_count": null,
      "outputs": [
        {
          "output_type": "stream",
          "name": "stdout",
          "text": [
            "['2015']\n",
            "['01', '2015']\n"
          ]
        }
      ]
    },
    {
      "cell_type": "code",
      "source": [
        "print(re.findall(r'Co+l', 'So Cooool Coool cool coool col'))\n"
      ],
      "metadata": {
        "colab": {
          "base_uri": "https://localhost:8080/"
        },
        "id": "YoXXcWxCKIQF",
        "outputId": "d7741661-08db-4293-b0c8-1e13457ac38f"
      },
      "execution_count": null,
      "outputs": [
        {
          "output_type": "stream",
          "name": "stdout",
          "text": [
            "['Cooool', 'Coool']\n"
          ]
        }
      ]
    },
    {
      "cell_type": "code",
      "source": [
        "print(re.findall(r'Pi*lani', 'Pilani dfbdfb fgfgf'))\n"
      ],
      "metadata": {
        "colab": {
          "base_uri": "https://localhost:8080/"
        },
        "id": "TQJGvi5bKLaU",
        "outputId": "82bec911-e7e9-4e6b-ee75-28e93a4197b5"
      },
      "execution_count": null,
      "outputs": [
        {
          "output_type": "stream",
          "name": "stdout",
          "text": [
            "['Pilani']\n"
          ]
        }
      ]
    },
    {
      "cell_type": "code",
      "source": [
        "print(re.findall(r'colou?r', 'color'))\n"
      ],
      "metadata": {
        "colab": {
          "base_uri": "https://localhost:8080/"
        },
        "id": "gKuRuIkKKO1G",
        "outputId": "34411257-f06a-4e01-ee1e-d5313703d42f"
      },
      "execution_count": null,
      "outputs": [
        {
          "output_type": "stream",
          "name": "stdout",
          "text": [
            "['color']\n"
          ]
        }
      ]
    },
    {
      "cell_type": "code",
      "source": [
        "re.findall(r'\\btoy\\b', 'play toy broke toys')\n"
      ],
      "metadata": {
        "colab": {
          "base_uri": "https://localhost:8080/"
        },
        "id": "G8SUAtiuKVCa",
        "outputId": "14f96b69-1207-4410-af8e-0df243b1ab58"
      },
      "execution_count": null,
      "outputs": [
        {
          "output_type": "execute_result",
          "data": {
            "text/plain": [
              "['toy']"
            ]
          },
          "metadata": {},
          "execution_count": 28
        }
      ]
    },
    {
      "cell_type": "code",
      "source": [
        "emails = \"\"\"zuck26@facebook.com\n",
        "page33@google.com\n",
        "jeff42@amazon.com\"\"\"\n",
        "pattern = r'(\\w+)@([A-Z0-9]+)\\.([A-Z]{2,4})'\n",
        "re.findall(pattern, emails, flags=re.IGNORECASE)\n"
      ],
      "metadata": {
        "colab": {
          "base_uri": "https://localhost:8080/"
        },
        "id": "1jN8y8LlKZwy",
        "outputId": "f672082f-d37b-4955-97f9-7981f111ea49"
      },
      "execution_count": null,
      "outputs": [
        {
          "output_type": "execute_result",
          "data": {
            "text/plain": [
              "[('zuck26', 'facebook', 'com'),\n",
              " ('page33', 'google', 'com'),\n",
              " ('jeff42', 'amazon', 'com')]"
            ]
          },
          "metadata": {},
          "execution_count": 29
        }
      ]
    },
    {
      "cell_type": "code",
      "source": [
        "#Retrieve all the words starting with ‘b’ or ‘B’ from the following text.\n",
        "text = \"\"\"Betty bought a bit of butter, But the butter was so bitter, So she bought some better butter, To make the bitter butter better.\"\"\"\n",
        "\n",
        "import re\n",
        "re.findall(r'\\bB\\w+', text, flags=re.IGNORECASE)"
      ],
      "metadata": {
        "colab": {
          "base_uri": "https://localhost:8080/"
        },
        "id": "bxZG5eXnKe8c",
        "outputId": "8849f0f3-3b3b-4887-b1d2-dd3938e84de1"
      },
      "execution_count": null,
      "outputs": [
        {
          "output_type": "execute_result",
          "data": {
            "text/plain": [
              "['Betty',\n",
              " 'bought',\n",
              " 'bit',\n",
              " 'butter',\n",
              " 'But',\n",
              " 'butter',\n",
              " 'bitter',\n",
              " 'bought',\n",
              " 'better',\n",
              " 'butter',\n",
              " 'bitter',\n",
              " 'butter',\n",
              " 'better']"
            ]
          },
          "metadata": {},
          "execution_count": 30
        }
      ]
    },
    {
      "cell_type": "code",
      "source": [
        "#Split the following irregular sentence into words\n",
        "sentence = \"\"\"A, very   very; irregular_sentence\"\"\"\n",
        "\n",
        "import re\n",
        "\" \".join(re.split('[;,\\s_]+', sentence))\n"
      ],
      "metadata": {
        "colab": {
          "base_uri": "https://localhost:8080/",
          "height": 36
        },
        "id": "mXIR8Wy8KiyS",
        "outputId": "48be138b-afc4-4bfa-ca29-56d2aee0fa0a"
      },
      "execution_count": null,
      "outputs": [
        {
          "output_type": "execute_result",
          "data": {
            "text/plain": [
              "'A very very irregular sentence'"
            ],
            "application/vnd.google.colaboratory.intrinsic+json": {
              "type": "string"
            }
          },
          "metadata": {},
          "execution_count": 32
        }
      ]
    },
    {
      "cell_type": "code",
      "source": [
        "tweet = '''Good advice! RT @TheNextWeb: What I would do differently if I was learning to code today http://t.co/lbwej0pxOd cc: @garybernhardt #rstats'''\n",
        "\n",
        "import re\n",
        "\n",
        "\n",
        "def clean_tweet(tweet):\n",
        "    tweet = re.sub('http\\S+\\s*', '', tweet)  # remove URLs\n",
        "    tweet = re.sub('RT|cc', '', tweet)  # remove RT and cc\n",
        "    tweet = re.sub('#\\S+', '', tweet)  # remove hashtags\n",
        "    tweet = re.sub('@\\S+', '', tweet)  # remove mentions\n",
        "    tweet = re.sub('[%s]' % re.escape(\"\"\"!\"#$%&'()*+,-./:;<=>?@[\\]^_`{|}~\"\"\"), '', tweet)  # remove punctuations\n",
        "    tweet = re.sub('\\s+', ' ', tweet)  # remove extra whitespace\n",
        "    return tweet\n",
        "\n",
        "\n",
        "print(clean_tweet(tweet))\n"
      ],
      "metadata": {
        "colab": {
          "base_uri": "https://localhost:8080/"
        },
        "id": "EksfvQYuKokZ",
        "outputId": "19dd4cf5-4b79-414e-bd94-1df3945dd1c0"
      },
      "execution_count": null,
      "outputs": [
        {
          "output_type": "stream",
          "name": "stdout",
          "text": [
            "Good advice What I would do differently if I was learning to code today \n"
          ]
        }
      ]
    }
  ]
}